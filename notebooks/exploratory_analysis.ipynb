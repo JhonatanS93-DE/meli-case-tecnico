{
 "cells": [
  {
   "cell_type": "markdown",
   "id": "15b2b447",
   "metadata": {},
   "source": [
    "# Exploratory Data Analysis\n",
    "\n",
    "Este notebook realiza un análisis exploratorio sobre los datos de Mercado Pago con el objetivo de preparar un dataset para entrenamiento de un modelo de Machine Learning."
   ]
  },
  {
   "cell_type": "code",
   "execution_count": 2,
   "id": "e18d481a",
   "metadata": {},
   "outputs": [
    {
     "data": {
      "text/html": [
       "<div>\n",
       "<style scoped>\n",
       "    .dataframe tbody tr th:only-of-type {\n",
       "        vertical-align: middle;\n",
       "    }\n",
       "\n",
       "    .dataframe tbody tr th {\n",
       "        vertical-align: top;\n",
       "    }\n",
       "\n",
       "    .dataframe thead th {\n",
       "        text-align: right;\n",
       "    }\n",
       "</style>\n",
       "<table border=\"1\" class=\"dataframe\">\n",
       "  <thead>\n",
       "    <tr style=\"text-align: right;\">\n",
       "      <th></th>\n",
       "      <th>day</th>\n",
       "      <th>event_data</th>\n",
       "      <th>user_id</th>\n",
       "    </tr>\n",
       "  </thead>\n",
       "  <tbody>\n",
       "    <tr>\n",
       "      <th>0</th>\n",
       "      <td>2020-11-01</td>\n",
       "      <td>{'position': 0, 'value_prop': 'cellphone_recha...</td>\n",
       "      <td>98702</td>\n",
       "    </tr>\n",
       "    <tr>\n",
       "      <th>1</th>\n",
       "      <td>2020-11-01</td>\n",
       "      <td>{'position': 1, 'value_prop': 'prepaid'}</td>\n",
       "      <td>98702</td>\n",
       "    </tr>\n",
       "    <tr>\n",
       "      <th>2</th>\n",
       "      <td>2020-11-01</td>\n",
       "      <td>{'position': 0, 'value_prop': 'prepaid'}</td>\n",
       "      <td>63252</td>\n",
       "    </tr>\n",
       "    <tr>\n",
       "      <th>3</th>\n",
       "      <td>2020-11-01</td>\n",
       "      <td>{'position': 0, 'value_prop': 'cellphone_recha...</td>\n",
       "      <td>24728</td>\n",
       "    </tr>\n",
       "    <tr>\n",
       "      <th>4</th>\n",
       "      <td>2020-11-01</td>\n",
       "      <td>{'position': 1, 'value_prop': 'link_cobro'}</td>\n",
       "      <td>24728</td>\n",
       "    </tr>\n",
       "  </tbody>\n",
       "</table>\n",
       "</div>"
      ],
      "text/plain": [
       "          day                                         event_data  user_id\n",
       "0  2020-11-01  {'position': 0, 'value_prop': 'cellphone_recha...    98702\n",
       "1  2020-11-01           {'position': 1, 'value_prop': 'prepaid'}    98702\n",
       "2  2020-11-01           {'position': 0, 'value_prop': 'prepaid'}    63252\n",
       "3  2020-11-01  {'position': 0, 'value_prop': 'cellphone_recha...    24728\n",
       "4  2020-11-01        {'position': 1, 'value_prop': 'link_cobro'}    24728"
      ]
     },
     "execution_count": 2,
     "metadata": {},
     "output_type": "execute_result"
    }
   ],
   "source": [
    "import pandas as pd\n",
    "import matplotlib.pyplot as plt\n",
    "import seaborn as sns\n",
    "from pathlib import Path\n",
    "\n",
    "# Configuración visual\n",
    "sns.set(style=\"whitegrid\")\n",
    "plt.rcParams[\"figure.figsize\"] = (10, 6)\n",
    "\n",
    "# Cargar los datos\n",
    "input_path = Path(\"../data/input\")\n",
    "prints = pd.read_json(input_path / \"prints.json\", lines=True)\n",
    "taps = pd.read_json(input_path / \"taps.json\", lines=True)\n",
    "pays = pd.read_csv(input_path / \"pays.csv\")\n",
    "\n",
    "prints.head()\n"
   ]
  },
  {
   "cell_type": "markdown",
   "id": "5759db1d",
   "metadata": {},
   "source": [
    "## Estructura y tipos de datos"
   ]
  },
  {
   "cell_type": "code",
   "execution_count": 3,
   "id": "8277ecc0",
   "metadata": {},
   "outputs": [
    {
     "name": "stdout",
     "output_type": "stream",
     "text": [
      "PRINTS:\n",
      "<class 'pandas.core.frame.DataFrame'>\n",
      "RangeIndex: 508617 entries, 0 to 508616\n",
      "Data columns (total 3 columns):\n",
      " #   Column      Non-Null Count   Dtype \n",
      "---  ------      --------------   ----- \n",
      " 0   day         508617 non-null  object\n",
      " 1   event_data  508617 non-null  object\n",
      " 2   user_id     508617 non-null  int64 \n",
      "dtypes: int64(1), object(2)\n",
      "memory usage: 11.6+ MB\n",
      "None\n",
      "\n",
      "TAPS:\n",
      "<class 'pandas.core.frame.DataFrame'>\n",
      "RangeIndex: 50859 entries, 0 to 50858\n",
      "Data columns (total 3 columns):\n",
      " #   Column      Non-Null Count  Dtype \n",
      "---  ------      --------------  ----- \n",
      " 0   day         50859 non-null  object\n",
      " 1   event_data  50859 non-null  object\n",
      " 2   user_id     50859 non-null  int64 \n",
      "dtypes: int64(1), object(2)\n",
      "memory usage: 1.2+ MB\n",
      "None\n",
      "\n",
      "PAYS:\n",
      "<class 'pandas.core.frame.DataFrame'>\n",
      "RangeIndex: 756483 entries, 0 to 756482\n",
      "Data columns (total 4 columns):\n",
      " #   Column      Non-Null Count   Dtype  \n",
      "---  ------      --------------   -----  \n",
      " 0   pay_date    756483 non-null  object \n",
      " 1   total       756483 non-null  float64\n",
      " 2   user_id     756483 non-null  int64  \n",
      " 3   value_prop  756483 non-null  object \n",
      "dtypes: float64(1), int64(1), object(2)\n",
      "memory usage: 23.1+ MB\n",
      "None\n"
     ]
    }
   ],
   "source": [
    "print(\"PRINTS:\")\n",
    "print(prints.info())\n",
    "print(\"\\nTAPS:\")\n",
    "print(taps.info())\n",
    "print(\"\\nPAYS:\")\n",
    "print(pays.info())\n"
   ]
  },
  {
   "cell_type": "markdown",
   "id": "be258c94",
   "metadata": {},
   "source": [
    "## Estadísticas básicas"
   ]
  },
  {
   "cell_type": "code",
   "execution_count": 4,
   "id": "d162fee2",
   "metadata": {},
   "outputs": [
    {
     "name": "stdout",
     "output_type": "stream",
     "text": [
      "               day                                         event_data  \\\n",
      "count       508617                                             508617   \n",
      "unique          30                                                 28   \n",
      "top     2020-11-07  {'position': 0, 'value_prop': 'cellphone_recha...   \n",
      "freq         19810                                              29293   \n",
      "mean           NaN                                                NaN   \n",
      "std            NaN                                                NaN   \n",
      "min            NaN                                                NaN   \n",
      "25%            NaN                                                NaN   \n",
      "50%            NaN                                                NaN   \n",
      "75%            NaN                                                NaN   \n",
      "max            NaN                                                NaN   \n",
      "\n",
      "              user_id  \n",
      "count   508617.000000  \n",
      "unique            NaN  \n",
      "top               NaN  \n",
      "freq              NaN  \n",
      "mean     50062.994955  \n",
      "std      28887.779988  \n",
      "min          1.000000  \n",
      "25%      25063.000000  \n",
      "50%      50095.000000  \n",
      "75%      75109.000000  \n",
      "max     100000.000000  \n",
      "               day                                         event_data  \\\n",
      "count        50859                                              50859   \n",
      "unique          30                                                 28   \n",
      "top     2020-11-07  {'position': 0, 'value_prop': 'cellphone_recha...   \n",
      "freq          1974                                               2981   \n",
      "mean           NaN                                                NaN   \n",
      "std            NaN                                                NaN   \n",
      "min            NaN                                                NaN   \n",
      "25%            NaN                                                NaN   \n",
      "50%            NaN                                                NaN   \n",
      "75%            NaN                                                NaN   \n",
      "max            NaN                                                NaN   \n",
      "\n",
      "             user_id  \n",
      "count   50859.000000  \n",
      "unique           NaN  \n",
      "top              NaN  \n",
      "freq             NaN  \n",
      "mean    49999.241039  \n",
      "std     28835.080673  \n",
      "min         1.000000  \n",
      "25%     25053.000000  \n",
      "50%     50029.000000  \n",
      "75%     75027.000000  \n",
      "max     99998.000000  \n",
      "               total        user_id\n",
      "count  756483.000000  756483.000000\n",
      "mean       50.245775   49991.263370\n",
      "std        44.160992   28848.264024\n",
      "min         0.000000       1.000000\n",
      "25%        13.750000   25023.000000\n",
      "50%        37.530000   49964.000000\n",
      "75%        76.810000   75004.000000\n",
      "max       199.950000  100000.000000\n"
     ]
    }
   ],
   "source": [
    "print(prints.describe(include='all'))\n",
    "print(taps.describe(include='all'))\n",
    "print(pays.describe())\n"
   ]
  },
  {
   "cell_type": "markdown",
   "id": "3c459bfd",
   "metadata": {},
   "source": [
    "## Validación de duplicados y nulos"
   ]
  },
  {
   "cell_type": "code",
   "execution_count": 7,
   "id": "73a944be",
   "metadata": {},
   "outputs": [
    {
     "name": "stdout",
     "output_type": "stream",
     "text": [
      "Duplicados:\n",
      "❌ Error al analizar duplicados o nulos: unhashable type: 'dict'\n"
     ]
    }
   ],
   "source": [
    "try:\n",
    "    print(\"Duplicados:\")\n",
    "    print(\"PRINTS:\", prints.duplicated().sum())\n",
    "    print(\"TAPS:\", taps.duplicated().sum())\n",
    "    print(\"PAYS:\", pays.duplicated().sum())\n",
    "\n",
    "    print(\"\\nValores nulos:\")\n",
    "    print(\"PRINTS:\\n\", prints.isnull().sum())\n",
    "    print(\"TAPS:\\n\", taps.isnull().sum())\n",
    "    print(\"PAYS:\\n\", pays.isnull().sum())\n",
    "\n",
    "except Exception as e:\n",
    "    print(\"❌ Error al analizar duplicados o nulos:\", e)\n"
   ]
  },
  {
   "cell_type": "markdown",
   "id": "4af1e072",
   "metadata": {},
   "source": [
    "## Distribución de clics y pagos por value_prop"
   ]
  },
  {
   "cell_type": "code",
   "execution_count": 6,
   "id": "3028963a",
   "metadata": {},
   "outputs": [
    {
     "ename": "KeyError",
     "evalue": "'value_prop_id'",
     "output_type": "error",
     "traceback": [
      "\u001b[1;31m---------------------------------------------------------------------------\u001b[0m",
      "\u001b[1;31mKeyError\u001b[0m                                  Traceback (most recent call last)",
      "File \u001b[1;32m~\\AppData\\Local\\Programs\\Python\\Python310\\lib\\site-packages\\pandas\\core\\indexes\\base.py:3812\u001b[0m, in \u001b[0;36mIndex.get_loc\u001b[1;34m(self, key)\u001b[0m\n\u001b[0;32m   3811\u001b[0m \u001b[38;5;28;01mtry\u001b[39;00m:\n\u001b[1;32m-> 3812\u001b[0m     \u001b[38;5;28;01mreturn\u001b[39;00m \u001b[38;5;28;43mself\u001b[39;49m\u001b[38;5;241;43m.\u001b[39;49m\u001b[43m_engine\u001b[49m\u001b[38;5;241;43m.\u001b[39;49m\u001b[43mget_loc\u001b[49m\u001b[43m(\u001b[49m\u001b[43mcasted_key\u001b[49m\u001b[43m)\u001b[49m\n\u001b[0;32m   3813\u001b[0m \u001b[38;5;28;01mexcept\u001b[39;00m \u001b[38;5;167;01mKeyError\u001b[39;00m \u001b[38;5;28;01mas\u001b[39;00m err:\n",
      "File \u001b[1;32mpandas/_libs/index.pyx:167\u001b[0m, in \u001b[0;36mpandas._libs.index.IndexEngine.get_loc\u001b[1;34m()\u001b[0m\n",
      "File \u001b[1;32mpandas/_libs/index.pyx:196\u001b[0m, in \u001b[0;36mpandas._libs.index.IndexEngine.get_loc\u001b[1;34m()\u001b[0m\n",
      "File \u001b[1;32mpandas/_libs/hashtable_class_helper.pxi:7088\u001b[0m, in \u001b[0;36mpandas._libs.hashtable.PyObjectHashTable.get_item\u001b[1;34m()\u001b[0m\n",
      "File \u001b[1;32mpandas/_libs/hashtable_class_helper.pxi:7096\u001b[0m, in \u001b[0;36mpandas._libs.hashtable.PyObjectHashTable.get_item\u001b[1;34m()\u001b[0m\n",
      "\u001b[1;31mKeyError\u001b[0m: 'value_prop_id'",
      "\nThe above exception was the direct cause of the following exception:\n",
      "\u001b[1;31mKeyError\u001b[0m                                  Traceback (most recent call last)",
      "Input \u001b[1;32mIn [6]\u001b[0m, in \u001b[0;36m<cell line: 1>\u001b[1;34m()\u001b[0m\n\u001b[1;32m----> 1\u001b[0m \u001b[43mtaps\u001b[49m\u001b[43m[\u001b[49m\u001b[38;5;124;43m'\u001b[39;49m\u001b[38;5;124;43mvalue_prop_id\u001b[39;49m\u001b[38;5;124;43m'\u001b[39;49m\u001b[43m]\u001b[49m\u001b[38;5;241m.\u001b[39mvalue_counts()\u001b[38;5;241m.\u001b[39mplot(kind\u001b[38;5;241m=\u001b[39m\u001b[38;5;124m'\u001b[39m\u001b[38;5;124mbar\u001b[39m\u001b[38;5;124m'\u001b[39m, title\u001b[38;5;241m=\u001b[39m\u001b[38;5;124m'\u001b[39m\u001b[38;5;124mClicks por Value Prop\u001b[39m\u001b[38;5;124m'\u001b[39m)\n\u001b[0;32m      2\u001b[0m plt\u001b[38;5;241m.\u001b[39mshow()\n\u001b[0;32m      4\u001b[0m pays[\u001b[38;5;124m'\u001b[39m\u001b[38;5;124mvalue_prop_id\u001b[39m\u001b[38;5;124m'\u001b[39m]\u001b[38;5;241m.\u001b[39mvalue_counts()\u001b[38;5;241m.\u001b[39mplot(kind\u001b[38;5;241m=\u001b[39m\u001b[38;5;124m'\u001b[39m\u001b[38;5;124mbar\u001b[39m\u001b[38;5;124m'\u001b[39m, title\u001b[38;5;241m=\u001b[39m\u001b[38;5;124m'\u001b[39m\u001b[38;5;124mPagos por Value Prop\u001b[39m\u001b[38;5;124m'\u001b[39m)\n",
      "File \u001b[1;32m~\\AppData\\Local\\Programs\\Python\\Python310\\lib\\site-packages\\pandas\\core\\frame.py:4107\u001b[0m, in \u001b[0;36mDataFrame.__getitem__\u001b[1;34m(self, key)\u001b[0m\n\u001b[0;32m   4105\u001b[0m \u001b[38;5;28;01mif\u001b[39;00m \u001b[38;5;28mself\u001b[39m\u001b[38;5;241m.\u001b[39mcolumns\u001b[38;5;241m.\u001b[39mnlevels \u001b[38;5;241m>\u001b[39m \u001b[38;5;241m1\u001b[39m:\n\u001b[0;32m   4106\u001b[0m     \u001b[38;5;28;01mreturn\u001b[39;00m \u001b[38;5;28mself\u001b[39m\u001b[38;5;241m.\u001b[39m_getitem_multilevel(key)\n\u001b[1;32m-> 4107\u001b[0m indexer \u001b[38;5;241m=\u001b[39m \u001b[38;5;28;43mself\u001b[39;49m\u001b[38;5;241;43m.\u001b[39;49m\u001b[43mcolumns\u001b[49m\u001b[38;5;241;43m.\u001b[39;49m\u001b[43mget_loc\u001b[49m\u001b[43m(\u001b[49m\u001b[43mkey\u001b[49m\u001b[43m)\u001b[49m\n\u001b[0;32m   4108\u001b[0m \u001b[38;5;28;01mif\u001b[39;00m is_integer(indexer):\n\u001b[0;32m   4109\u001b[0m     indexer \u001b[38;5;241m=\u001b[39m [indexer]\n",
      "File \u001b[1;32m~\\AppData\\Local\\Programs\\Python\\Python310\\lib\\site-packages\\pandas\\core\\indexes\\base.py:3819\u001b[0m, in \u001b[0;36mIndex.get_loc\u001b[1;34m(self, key)\u001b[0m\n\u001b[0;32m   3814\u001b[0m     \u001b[38;5;28;01mif\u001b[39;00m \u001b[38;5;28misinstance\u001b[39m(casted_key, \u001b[38;5;28mslice\u001b[39m) \u001b[38;5;129;01mor\u001b[39;00m (\n\u001b[0;32m   3815\u001b[0m         \u001b[38;5;28misinstance\u001b[39m(casted_key, abc\u001b[38;5;241m.\u001b[39mIterable)\n\u001b[0;32m   3816\u001b[0m         \u001b[38;5;129;01mand\u001b[39;00m \u001b[38;5;28many\u001b[39m(\u001b[38;5;28misinstance\u001b[39m(x, \u001b[38;5;28mslice\u001b[39m) \u001b[38;5;28;01mfor\u001b[39;00m x \u001b[38;5;129;01min\u001b[39;00m casted_key)\n\u001b[0;32m   3817\u001b[0m     ):\n\u001b[0;32m   3818\u001b[0m         \u001b[38;5;28;01mraise\u001b[39;00m InvalidIndexError(key)\n\u001b[1;32m-> 3819\u001b[0m     \u001b[38;5;28;01mraise\u001b[39;00m \u001b[38;5;167;01mKeyError\u001b[39;00m(key) \u001b[38;5;28;01mfrom\u001b[39;00m\u001b[38;5;250m \u001b[39m\u001b[38;5;21;01merr\u001b[39;00m\n\u001b[0;32m   3820\u001b[0m \u001b[38;5;28;01mexcept\u001b[39;00m \u001b[38;5;167;01mTypeError\u001b[39;00m:\n\u001b[0;32m   3821\u001b[0m     \u001b[38;5;66;03m# If we have a listlike key, _check_indexing_error will raise\u001b[39;00m\n\u001b[0;32m   3822\u001b[0m     \u001b[38;5;66;03m#  InvalidIndexError. Otherwise we fall through and re-raise\u001b[39;00m\n\u001b[0;32m   3823\u001b[0m     \u001b[38;5;66;03m#  the TypeError.\u001b[39;00m\n\u001b[0;32m   3824\u001b[0m     \u001b[38;5;28mself\u001b[39m\u001b[38;5;241m.\u001b[39m_check_indexing_error(key)\n",
      "\u001b[1;31mKeyError\u001b[0m: 'value_prop_id'"
     ]
    }
   ],
   "source": [
    "taps['value_prop_id'].value_counts().plot(kind='bar', title='Clicks por Value Prop')\n",
    "plt.show()\n",
    "\n",
    "pays['value_prop_id'].value_counts().plot(kind='bar', title='Pagos por Value Prop')\n",
    "plt.show()\n"
   ]
  },
  {
   "cell_type": "markdown",
   "id": "e3832d8e",
   "metadata": {},
   "source": [
    "## Comportamiento temporal"
   ]
  },
  {
   "cell_type": "code",
   "execution_count": null,
   "id": "1ea728ce",
   "metadata": {},
   "outputs": [],
   "source": [
    "prints['timestamp'] = pd.to_datetime(prints['timestamp'])\n",
    "taps['timestamp'] = pd.to_datetime(taps['timestamp'])\n",
    "pays['timestamp'] = pd.to_datetime(pays['timestamp'])\n",
    "\n",
    "prints['timestamp'].dt.date.value_counts().sort_index().plot(title='Eventos de Prints por Día')\n",
    "plt.show()\n"
   ]
  }
 ],
 "metadata": {
  "kernelspec": {
   "display_name": "Python 3 (ipykernel)",
   "language": "python",
   "name": "python3"
  },
  "language_info": {
   "codemirror_mode": {
    "name": "ipython",
    "version": 3
   },
   "file_extension": ".py",
   "mimetype": "text/x-python",
   "name": "python",
   "nbconvert_exporter": "python",
   "pygments_lexer": "ipython3",
   "version": "3.10.6"
  }
 },
 "nbformat": 4,
 "nbformat_minor": 5
}
