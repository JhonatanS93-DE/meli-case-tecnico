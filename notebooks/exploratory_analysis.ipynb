{
 "cells": [
  {
   "cell_type": "markdown",
   "id": "15b2b447",
   "metadata": {},
   "source": [
    "# Exploratory Data Analysis\n",
    "\n",
    "Este notebook realiza un análisis exploratorio sobre los datos de Mercado Pago con el objetivo de preparar un dataset para entrenamiento de un modelo de Machine Learning."
   ]
  },
  {
   "cell_type": "code",
   "execution_count": null,
   "id": "e18d481a",
   "metadata": {},
   "outputs": [],
   "source": [
    "import pandas as pd\n",
    "import matplotlib.pyplot as plt\n",
    "import seaborn as sns\n",
    "from pathlib import Path\n",
    "\n",
    "# Configuración visual\n",
    "sns.set(style=\"whitegrid\")\n",
    "plt.rcParams[\"figure.figsize\"] = (10, 6)\n",
    "\n",
    "# Cargar los datos\n",
    "input_path = Path(\"../data/input\")\n",
    "prints = pd.read_json(input_path / \"prints.json\", lines=True)\n",
    "taps = pd.read_json(input_path / \"taps.json\", lines=True)\n",
    "pays = pd.read_csv(input_path / \"pays.csv\")\n",
    "\n",
    "prints.head()\n"
   ]
  },
  {
   "cell_type": "markdown",
   "id": "5759db1d",
   "metadata": {},
   "source": [
    "## Estructura y tipos de datos"
   ]
  },
  {
   "cell_type": "code",
   "execution_count": null,
   "id": "8277ecc0",
   "metadata": {},
   "outputs": [],
   "source": [
    "print(\"PRINTS:\")\n",
    "print(prints.info())\n",
    "print(\"\\nTAPS:\")\n",
    "print(taps.info())\n",
    "print(\"\\nPAYS:\")\n",
    "print(pays.info())\n"
   ]
  },
  {
   "cell_type": "markdown",
   "id": "be258c94",
   "metadata": {},
   "source": [
    "## Estadísticas básicas"
   ]
  },
  {
   "cell_type": "code",
   "execution_count": null,
   "id": "d162fee2",
   "metadata": {},
   "outputs": [],
   "source": [
    "print(prints.describe(include='all'))\n",
    "print(taps.describe(include='all'))\n",
    "print(pays.describe())\n"
   ]
  },
  {
   "cell_type": "markdown",
   "id": "3c459bfd",
   "metadata": {},
   "source": [
    "## Validación de duplicados y nulos"
   ]
  },
  {
   "cell_type": "code",
   "execution_count": null,
   "id": "73a944be",
   "metadata": {},
   "outputs": [],
   "source": [
    "print(\"Duplicados en PRINTS:\", prints.duplicated().sum())\n",
    "print(\"Duplicados en TAPS:\", taps.duplicated().sum())\n",
    "print(\"Duplicados en PAYS:\", pays.duplicated().sum())\n",
    "\n",
    "print(\"\\nValores nulos:\")\n",
    "print(\"PRINTS:\\n\", prints.isnull().sum())\n",
    "print(\"TAPS:\\n\", taps.isnull().sum())\n",
    "print(\"PAYS:\\n\", pays.isnull().sum())\n"
   ]
  },
  {
   "cell_type": "markdown",
   "id": "4af1e072",
   "metadata": {},
   "source": [
    "## Distribución de clics y pagos por value_prop"
   ]
  },
  {
   "cell_type": "code",
   "execution_count": null,
   "id": "3028963a",
   "metadata": {},
   "outputs": [],
   "source": [
    "taps['value_prop_id'].value_counts().plot(kind='bar', title='Clicks por Value Prop')\n",
    "plt.show()\n",
    "\n",
    "pays['value_prop_id'].value_counts().plot(kind='bar', title='Pagos por Value Prop')\n",
    "plt.show()\n"
   ]
  },
  {
   "cell_type": "markdown",
   "id": "e3832d8e",
   "metadata": {},
   "source": [
    "## Comportamiento temporal"
   ]
  },
  {
   "cell_type": "code",
   "execution_count": null,
   "id": "1ea728ce",
   "metadata": {},
   "outputs": [],
   "source": [
    "prints['timestamp'] = pd.to_datetime(prints['timestamp'])\n",
    "taps['timestamp'] = pd.to_datetime(taps['timestamp'])\n",
    "pays['timestamp'] = pd.to_datetime(pays['timestamp'])\n",
    "\n",
    "prints['timestamp'].dt.date.value_counts().sort_index().plot(title='Eventos de Prints por Día')\n",
    "plt.show()\n"
   ]
  }
 ],
 "metadata": {},
 "nbformat": 4,
 "nbformat_minor": 5
}
